{
 "cells": [
  {
   "cell_type": "code",
   "execution_count": 1,
   "id": "12e39219",
   "metadata": {},
   "outputs": [
    {
     "name": "stdout",
     "output_type": "stream",
     "text": [
      "tf.Tensor(\n",
      "[[1. 2. 3.]\n",
      " [4. 5. 6.]], shape=(2, 3), dtype=float32)\n",
      "(2, 3)\n",
      "<dtype: 'float32'>\n"
     ]
    }
   ],
   "source": [
    "import tensorflow as tf\n",
    "\n",
    "x = tf.constant([[1., 2., 3.],\n",
    "                 [4., 5., 6.]])\n",
    "\n",
    "print(x)\n",
    "print(x.shape)\n",
    "print(x.dtype)"
   ]
  },
  {
   "cell_type": "code",
   "execution_count": 2,
   "id": "415eab09",
   "metadata": {},
   "outputs": [
    {
     "data": {
      "text/plain": [
       "<tf.Tensor: shape=(2, 3), dtype=float32, numpy=\n",
       "array([[ 2.,  4.,  6.],\n",
       "       [ 8., 10., 12.]], dtype=float32)>"
      ]
     },
     "execution_count": 2,
     "metadata": {},
     "output_type": "execute_result"
    }
   ],
   "source": [
    "x + x"
   ]
  },
  {
   "cell_type": "code",
   "execution_count": 3,
   "id": "c9a5611e",
   "metadata": {},
   "outputs": [
    {
     "data": {
      "text/plain": [
       "<tf.Tensor: shape=(2, 3), dtype=float32, numpy=\n",
       "array([[ 5., 10., 15.],\n",
       "       [20., 25., 30.]], dtype=float32)>"
      ]
     },
     "execution_count": 3,
     "metadata": {},
     "output_type": "execute_result"
    }
   ],
   "source": [
    "5 * x"
   ]
  },
  {
   "cell_type": "markdown",
   "id": "bcbdbabb",
   "metadata": {},
   "source": [
    "A expressão x @ tf.transpose(x) representa o produto matricial entre um tensor x e a sua transposição. O operador @ é usado em Python para realizar a multiplicação de matrizes."
   ]
  },
  {
   "cell_type": "code",
   "execution_count": 4,
   "id": "bb3c2dd0",
   "metadata": {
    "scrolled": true
   },
   "outputs": [
    {
     "data": {
      "text/plain": [
       "<tf.Tensor: shape=(2, 2), dtype=float32, numpy=\n",
       "array([[14., 32.],\n",
       "       [32., 77.]], dtype=float32)>"
      ]
     },
     "execution_count": 4,
     "metadata": {},
     "output_type": "execute_result"
    }
   ],
   "source": [
    "x @ tf.transpose(x)"
   ]
  },
  {
   "cell_type": "markdown",
   "id": "325711b8",
   "metadata": {},
   "source": [
    "A expressão tf.concat([x, x, x], axis=0) representa a concatenação de tensores x, x e x ao longo do eixo 0. A função tf.concat() é utilizada no TensorFlow para concatenar tensores ao longo de um determinado eixo."
   ]
  },
  {
   "cell_type": "code",
   "execution_count": 5,
   "id": "a8aaf68b",
   "metadata": {
    "scrolled": true
   },
   "outputs": [
    {
     "data": {
      "text/plain": [
       "<tf.Tensor: shape=(6, 3), dtype=float32, numpy=\n",
       "array([[1., 2., 3.],\n",
       "       [4., 5., 6.],\n",
       "       [1., 2., 3.],\n",
       "       [4., 5., 6.],\n",
       "       [1., 2., 3.],\n",
       "       [4., 5., 6.]], dtype=float32)>"
      ]
     },
     "execution_count": 5,
     "metadata": {},
     "output_type": "execute_result"
    }
   ],
   "source": [
    "tf.concat([x, x, x], axis=0)"
   ]
  },
  {
   "cell_type": "code",
   "execution_count": 6,
   "id": "55cce461",
   "metadata": {},
   "outputs": [
    {
     "ename": "SyntaxError",
     "evalue": "invalid syntax (1731592647.py, line 1)",
     "output_type": "error",
     "traceback": [
      "\u001b[1;36m  Cell \u001b[1;32mIn[6], line 1\u001b[1;36m\u001b[0m\n\u001b[1;33m    n entendi\u001b[0m\n\u001b[1;37m      ^\u001b[0m\n\u001b[1;31mSyntaxError\u001b[0m\u001b[1;31m:\u001b[0m invalid syntax\n"
     ]
    }
   ],
   "source": [
    "n entendi "
   ]
  },
  {
   "cell_type": "code",
   "execution_count": null,
   "id": "520b7f7d",
   "metadata": {},
   "outputs": [],
   "source": [
    "tf.nn.softmax(x, axis=-1)"
   ]
  },
  {
   "cell_type": "markdown",
   "id": "69a7449b",
   "metadata": {},
   "source": [
    "A expressão tf.reduce_sum(x) representa a soma de todos os elementos de um \n",
    "tensor x ao longo de todas as suas dimensões. A função tf.reduce_sum() é \n",
    "utilizada no TensorFlow para calcular a soma dos elementos de um tensor."
   ]
  },
  {
   "cell_type": "code",
   "execution_count": null,
   "id": "4ab9077d",
   "metadata": {},
   "outputs": [],
   "source": [
    "tf.reduce_sum(x)"
   ]
  },
  {
   "cell_type": "code",
   "execution_count": null,
   "id": "ad43fdf6",
   "metadata": {},
   "outputs": [],
   "source": [
    "if tf.config.list_physical_devices('GPU'):\n",
    "  print(\"TensorFlow **IS** using the GPU\")\n",
    "else:\n",
    "  print(\"TensorFlow **IS NOT** using the GPU\")"
   ]
  },
  {
   "cell_type": "markdown",
   "id": "959b3181",
   "metadata": {},
   "source": [
    "Variaveis"
   ]
  },
  {
   "cell_type": "code",
   "execution_count": null,
   "id": "1093836c",
   "metadata": {},
   "outputs": [],
   "source": [
    "var = tf.Variable([0.0, 0.0, 0.0])"
   ]
  },
  {
   "cell_type": "code",
   "execution_count": null,
   "id": "dd913e11",
   "metadata": {},
   "outputs": [],
   "source": [
    "var.assign([1, 2, 3])"
   ]
  },
  {
   "cell_type": "code",
   "execution_count": null,
   "id": "ae99e9ba",
   "metadata": {},
   "outputs": [],
   "source": [
    "var.assign_add([1, 1, 1])"
   ]
  },
  {
   "cell_type": "markdown",
   "id": "73308084",
   "metadata": {},
   "source": [
    "Diferenciação automatica\n"
   ]
  },
  {
   "cell_type": "code",
   "execution_count": null,
   "id": "c493c9e8",
   "metadata": {},
   "outputs": [],
   "source": [
    "x = tf.Variable(1.0)\n",
    "\n",
    "def f(x):\n",
    "  y = x**2 + 2*x - 5\n",
    "  return y"
   ]
  },
  {
   "cell_type": "code",
   "execution_count": null,
   "id": "0249cd86",
   "metadata": {},
   "outputs": [],
   "source": [
    "f(x)"
   ]
  },
  {
   "cell_type": "code",
   "execution_count": null,
   "id": "c8462063",
   "metadata": {},
   "outputs": [],
   "source": [
    "with tf.GradientTape() as tape:\n",
    "  y = f(x)\n",
    "\n",
    "g_x = tape.gradient(y, x)  # g(x) = dy/dx\n",
    "\n",
    "g_x"
   ]
  },
  {
   "cell_type": "markdown",
   "id": "4c80d6c1",
   "metadata": {},
   "source": [
    "Gráficos e tf.function\n"
   ]
  },
  {
   "cell_type": "code",
   "execution_count": null,
   "id": "615f7479",
   "metadata": {},
   "outputs": [],
   "source": [
    "@tf.function\n",
    "def my_func(x):\n",
    "  print('Tracing.\\n')\n",
    "  return tf.reduce_sum(x)"
   ]
  },
  {
   "cell_type": "code",
   "execution_count": null,
   "id": "0149c9f2",
   "metadata": {},
   "outputs": [],
   "source": [
    "x = tf.constant([1, 2, 3])\n",
    "my_func(x)"
   ]
  },
  {
   "cell_type": "code",
   "execution_count": null,
   "id": "56d42364",
   "metadata": {},
   "outputs": [],
   "source": [
    "x = tf.constant([10, 9, 8])\n",
    "my_func(x)"
   ]
  },
  {
   "cell_type": "code",
   "execution_count": null,
   "id": "099265cc",
   "metadata": {},
   "outputs": [],
   "source": [
    "x = tf.constant([10.0, 9.1, 8.2], dtype=tf.float32)\n",
    "my_func(x)"
   ]
  },
  {
   "cell_type": "markdown",
   "id": "a9e071d3",
   "metadata": {},
   "source": [
    "Módulos, camadas e modelos"
   ]
  },
  {
   "cell_type": "code",
   "execution_count": null,
   "id": "713da4ae",
   "metadata": {},
   "outputs": [],
   "source": [
    "class MyModule(tf.Module):\n",
    "  def __init__(self, value):\n",
    "    self.weight = tf.Variable(value)\n",
    "\n",
    "  @tf.function\n",
    "  def multiply(self, x):\n",
    "    return x * self.weight"
   ]
  },
  {
   "cell_type": "code",
   "execution_count": null,
   "id": "3ac60ace",
   "metadata": {},
   "outputs": [],
   "source": [
    "mod = MyModule(3)\n",
    "mod.multiply(tf.constant([1, 2, 3]))"
   ]
  },
  {
   "cell_type": "code",
   "execution_count": null,
   "id": "0e984812",
   "metadata": {},
   "outputs": [],
   "source": [
    "save_path = './saved'\n",
    "tf.saved_model.save(mod, save_path)"
   ]
  },
  {
   "cell_type": "code",
   "execution_count": null,
   "id": "df7adaa0",
   "metadata": {},
   "outputs": [],
   "source": [
    "reloaded = tf.saved_model.load(save_path)\n",
    "reloaded.multiply(tf.constant([1, 2, 3]))"
   ]
  },
  {
   "cell_type": "markdown",
   "id": "a00a37a8",
   "metadata": {},
   "source": [
    "Loops de treinamento"
   ]
  },
  {
   "cell_type": "code",
   "execution_count": null,
   "id": "6fbe318b",
   "metadata": {},
   "outputs": [],
   "source": [
    "import matplotlib\n",
    "from matplotlib import pyplot as plt\n",
    "\n",
    "matplotlib.rcParams['figure.figsize'] = [9, 6]"
   ]
  },
  {
   "cell_type": "code",
   "execution_count": null,
   "id": "91be4270",
   "metadata": {},
   "outputs": [],
   "source": [
    "x = tf.linspace(-2, 2, 201)\n",
    "x = tf.cast(x, tf.float32)\n",
    "\n",
    "def f(x):\n",
    "  y = x**2 + 2*x - 5\n",
    "  return y\n",
    "\n",
    "y = f(x) + tf.random.normal(shape=[201])\n",
    "\n",
    "plt.plot(x.numpy(), y.numpy(), '.', label='Data')\n",
    "plt.plot(x, f(x),  label='Ground truth')\n",
    "plt.legend();"
   ]
  },
  {
   "cell_type": "code",
   "execution_count": null,
   "id": "fbbd8e17",
   "metadata": {},
   "outputs": [],
   "source": [
    "class Model(tf.keras.Model):\n",
    "  def __init__(self, units):\n",
    "    super().__init__()\n",
    "    self.dense1 = tf.keras.layers.Dense(units=units,\n",
    "                                        activation=tf.nn.relu,\n",
    "                                        kernel_initializer=tf.random.normal,\n",
    "                                        bias_initializer=tf.random.normal)\n",
    "    self.dense2 = tf.keras.layers.Dense(1)\n",
    "\n",
    "  def call(self, x, training=True):\n",
    "    # For Keras layers/models, implement `call` instead of `__call__`.\n",
    "    x = x[:, tf.newaxis]\n",
    "    x = self.dense1(x)\n",
    "    x = self.dense2(x)\n",
    "    return tf.squeeze(x, axis=1)"
   ]
  },
  {
   "cell_type": "code",
   "execution_count": null,
   "id": "05400578",
   "metadata": {},
   "outputs": [],
   "source": [
    "model = Model(64)"
   ]
  },
  {
   "cell_type": "code",
   "execution_count": null,
   "id": "a6cade61",
   "metadata": {},
   "outputs": [],
   "source": [
    "plt.plot(x.numpy(), y.numpy(), '.', label='data')\n",
    "plt.plot(x, f(x),  label='Ground truth')\n",
    "plt.plot(x, model(x), label='Untrained predictions')\n",
    "plt.title('Before training')\n",
    "plt.legend();"
   ]
  },
  {
   "cell_type": "code",
   "execution_count": null,
   "id": "11f2116a",
   "metadata": {},
   "outputs": [],
   "source": [
    "variables = model.variables\n",
    "\n",
    "optimizer = tf.optimizers.SGD(learning_rate=0.01)\n",
    "\n",
    "for step in range(1000):\n",
    "  with tf.GradientTape() as tape:\n",
    "    prediction = model(x)\n",
    "    error = (y-prediction)**2\n",
    "    mean_error = tf.reduce_mean(error)\n",
    "  gradient = tape.gradient(mean_error, variables)\n",
    "  optimizer.apply_gradients(zip(gradient, variables))\n",
    "\n",
    "  if step % 100 == 0:\n",
    "    print(f'Mean squared error: {mean_error.numpy():0.3f}')"
   ]
  },
  {
   "cell_type": "code",
   "execution_count": null,
   "id": "27d54072",
   "metadata": {},
   "outputs": [],
   "source": [
    "new_model = Model(64)"
   ]
  },
  {
   "cell_type": "code",
   "execution_count": null,
   "id": "2d78f8df",
   "metadata": {},
   "outputs": [],
   "source": [
    "new_model.compile(\n",
    "    loss=tf.keras.losses.MSE,\n",
    "    optimizer=tf.optimizers.SGD(learning_rate=0.01))\n",
    "\n",
    "history = new_model.fit(x, y,\n",
    "                        epochs=100,\n",
    "                        batch_size=32,\n",
    "                        verbose=0)\n",
    "\n",
    "model.save('./my_model')"
   ]
  },
  {
   "cell_type": "code",
   "execution_count": null,
   "id": "14b66acc",
   "metadata": {},
   "outputs": [],
   "source": [
    "plt.plot(history.history['loss'])\n",
    "plt.xlabel('Epoch')\n",
    "plt.ylim([0, max(plt.ylim())])\n",
    "plt.ylabel('Loss [Mean Squared Error]')\n",
    "plt.title('Keras training progress');"
   ]
  }
 ],
 "metadata": {
  "kernelspec": {
   "display_name": "Python 3 (ipykernel)",
   "language": "python",
   "name": "python3"
  },
  "language_info": {
   "codemirror_mode": {
    "name": "ipython",
    "version": 3
   },
   "file_extension": ".py",
   "mimetype": "text/x-python",
   "name": "python",
   "nbconvert_exporter": "python",
   "pygments_lexer": "ipython3",
   "version": "3.10.9"
  }
 },
 "nbformat": 4,
 "nbformat_minor": 5
}
