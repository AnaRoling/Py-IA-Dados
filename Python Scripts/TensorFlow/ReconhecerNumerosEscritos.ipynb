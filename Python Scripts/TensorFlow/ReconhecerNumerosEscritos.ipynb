{
 "cells": [
  {
   "cell_type": "code",
   "execution_count": 2,
   "id": "1f719d22",
   "metadata": {},
   "outputs": [],
   "source": [
    "import tensorflow as tf\n",
    "from tensorflow import keras\n",
    "import matplotlib.pyplot as plt\n",
    "%matplotlib inline\n",
    "import numpy as np "
   ]
  },
  {
   "cell_type": "markdown",
   "id": "be292328",
   "metadata": {},
   "source": [
    "importa o dataset e divide ele em variavel de teste e variavel de treino "
   ]
  },
  {
   "cell_type": "code",
   "execution_count": 3,
   "id": "c68366ee",
   "metadata": {},
   "outputs": [],
   "source": [
    "(X_train,y_train),(X_test, y_test) = keras.datasets.mnist.load_data()"
   ]
  },
  {
   "cell_type": "markdown",
   "id": "9d317fb6",
   "metadata": {},
   "source": [
    "retorna quanto elementos tem na variavel "
   ]
  },
  {
   "cell_type": "code",
   "execution_count": null,
   "id": "aee73a12",
   "metadata": {},
   "outputs": [],
   "source": [
    "len(X_train)"
   ]
  },
  {
   "cell_type": "code",
   "execution_count": null,
   "id": "d1440f7c",
   "metadata": {},
   "outputs": [],
   "source": [
    "len(X_test)"
   ]
  },
  {
   "cell_type": "markdown",
   "id": "dada4ec8",
   "metadata": {},
   "source": [
    "Retorna a dimenção do elemento "
   ]
  },
  {
   "cell_type": "code",
   "execution_count": null,
   "id": "59820e98",
   "metadata": {},
   "outputs": [],
   "source": [
    "X_train[0].shape"
   ]
  },
  {
   "cell_type": "markdown",
   "id": "e9152d80",
   "metadata": {},
   "source": [
    "retorna 1 o elemento em formato(desenho) de array, onde 0 é preto e 2.. é branco "
   ]
  },
  {
   "cell_type": "code",
   "execution_count": null,
   "id": "5d0d2a29",
   "metadata": {},
   "outputs": [],
   "source": [
    "X_train[0]"
   ]
  },
  {
   "cell_type": "markdown",
   "id": "09c39637",
   "metadata": {},
   "source": [
    "mostra o elemento em um grafo usano matplotlib"
   ]
  },
  {
   "cell_type": "code",
   "execution_count": null,
   "id": "9ec587b9",
   "metadata": {},
   "outputs": [],
   "source": [
    "plt.matshow(X_train[2])"
   ]
  },
  {
   "cell_type": "markdown",
   "id": "a5e6a717",
   "metadata": {},
   "source": [
    "Retorna a label "
   ]
  },
  {
   "cell_type": "code",
   "execution_count": null,
   "id": "4e36d013",
   "metadata": {},
   "outputs": [],
   "source": [
    "y_train[2]"
   ]
  },
  {
   "cell_type": "code",
   "execution_count": null,
   "id": "d253532c",
   "metadata": {},
   "outputs": [],
   "source": [
    "y_train[:5]"
   ]
  },
  {
   "cell_type": "markdown",
   "id": "d1791ec0",
   "metadata": {},
   "source": [
    "divide as variaveis por 255 para redmencionalas: utilizando a função do pandas reshape trasformamos os elementos bidimensionais 28x28 em elementos unidimensionais 784"
   ]
  },
  {
   "cell_type": "code",
   "execution_count": 4,
   "id": "563d9564",
   "metadata": {},
   "outputs": [],
   "source": [
    "X_train = X_train/255\n",
    "X_test = X_test/ 255"
   ]
  },
  {
   "cell_type": "code",
   "execution_count": null,
   "id": "b31e0e44",
   "metadata": {},
   "outputs": [],
   "source": [
    "X_train[0]"
   ]
  },
  {
   "cell_type": "code",
   "execution_count": 5,
   "id": "0a6a5f81",
   "metadata": {},
   "outputs": [
    {
     "data": {
      "text/plain": [
       "(60000, 784)"
      ]
     },
     "execution_count": 5,
     "metadata": {},
     "output_type": "execute_result"
    }
   ],
   "source": [
    "X_train_flattened = X_train.reshape(len(X_train),28*28)\n",
    "X_test_flattened = X_test.reshape(len(X_test),28*28)\n",
    "X_train_flattened.shape\n"
   ]
  },
  {
   "cell_type": "code",
   "execution_count": null,
   "id": "03c627ad",
   "metadata": {},
   "outputs": [],
   "source": [
    "X_test_flattened.shape"
   ]
  },
  {
   "cell_type": "code",
   "execution_count": null,
   "id": "287cbf62",
   "metadata": {},
   "outputs": [],
   "source": [
    "X_train_flattened[0]"
   ]
  },
  {
   "cell_type": "markdown",
   "id": "06e4184d",
   "metadata": {},
   "source": [
    ". Dense: todo neoronio se conecta com a proxima camada\n",
    ". sequencial:toda leyer tem um elemento \n",
    ".(output,input,activation)\n",
    ". optimizer:treinar mais eficiente\n",
    ".loss:output é categorico 0-9\n",
    ".fit: treinar \n",
    ".epochs:quantas vezes vai treinar "
   ]
  },
  {
   "cell_type": "code",
   "execution_count": 6,
   "id": "43a266bf",
   "metadata": {},
   "outputs": [
    {
     "name": "stdout",
     "output_type": "stream",
     "text": [
      "Epoch 1/30\n",
      "1875/1875 [==============================] - 2s 1ms/step - loss: 0.4681 - accuracy: 0.8767\n",
      "Epoch 2/30\n",
      "1875/1875 [==============================] - 2s 1ms/step - loss: 0.3031 - accuracy: 0.9154\n",
      "Epoch 3/30\n",
      "1875/1875 [==============================] - 2s 1ms/step - loss: 0.2827 - accuracy: 0.9211\n",
      "Epoch 4/30\n",
      "1875/1875 [==============================] - 2s 1ms/step - loss: 0.2731 - accuracy: 0.9232\n",
      "Epoch 5/30\n",
      "1875/1875 [==============================] - 2s 1ms/step - loss: 0.2662 - accuracy: 0.9257\n",
      "Epoch 6/30\n",
      "1875/1875 [==============================] - 2s 1ms/step - loss: 0.2618 - accuracy: 0.9276\n",
      "Epoch 7/30\n",
      "1875/1875 [==============================] - 2s 1ms/step - loss: 0.2581 - accuracy: 0.9285\n",
      "Epoch 8/30\n",
      "1875/1875 [==============================] - 2s 1ms/step - loss: 0.2556 - accuracy: 0.9299\n",
      "Epoch 9/30\n",
      "1875/1875 [==============================] - 3s 1ms/step - loss: 0.2531 - accuracy: 0.9301\n",
      "Epoch 10/30\n",
      "1875/1875 [==============================] - 2s 1ms/step - loss: 0.2505 - accuracy: 0.9307\n",
      "Epoch 11/30\n",
      "1875/1875 [==============================] - 2s 1ms/step - loss: 0.2490 - accuracy: 0.9317\n",
      "Epoch 12/30\n",
      "1875/1875 [==============================] - 2s 1ms/step - loss: 0.2481 - accuracy: 0.9313\n",
      "Epoch 13/30\n",
      "1875/1875 [==============================] - 2s 1ms/step - loss: 0.2462 - accuracy: 0.9316\n",
      "Epoch 14/30\n",
      "1875/1875 [==============================] - 2s 1ms/step - loss: 0.2454 - accuracy: 0.9322\n",
      "Epoch 15/30\n",
      "1875/1875 [==============================] - 2s 1ms/step - loss: 0.2440 - accuracy: 0.9328\n",
      "Epoch 16/30\n",
      "1875/1875 [==============================] - 2s 1ms/step - loss: 0.2428 - accuracy: 0.9334\n",
      "Epoch 17/30\n",
      "1875/1875 [==============================] - 2s 1ms/step - loss: 0.2420 - accuracy: 0.9338\n",
      "Epoch 18/30\n",
      "1875/1875 [==============================] - 2s 1ms/step - loss: 0.2410 - accuracy: 0.9337\n",
      "Epoch 19/30\n",
      "1875/1875 [==============================] - 2s 1ms/step - loss: 0.2406 - accuracy: 0.9337\n",
      "Epoch 20/30\n",
      "1875/1875 [==============================] - 2s 1ms/step - loss: 0.2393 - accuracy: 0.9339\n",
      "Epoch 21/30\n",
      "1875/1875 [==============================] - 2s 1ms/step - loss: 0.2393 - accuracy: 0.9335\n",
      "Epoch 22/30\n",
      "1875/1875 [==============================] - 2s 1ms/step - loss: 0.2382 - accuracy: 0.9342\n",
      "Epoch 23/30\n",
      "1875/1875 [==============================] - 2s 1ms/step - loss: 0.2379 - accuracy: 0.9338\n",
      "Epoch 24/30\n",
      "1875/1875 [==============================] - 2s 1ms/step - loss: 0.2372 - accuracy: 0.9344\n",
      "Epoch 25/30\n",
      "1875/1875 [==============================] - 2s 1ms/step - loss: 0.2364 - accuracy: 0.9342\n",
      "Epoch 26/30\n",
      "1875/1875 [==============================] - 3s 2ms/step - loss: 0.2361 - accuracy: 0.9348\n",
      "Epoch 27/30\n",
      "1875/1875 [==============================] - 2s 1ms/step - loss: 0.2360 - accuracy: 0.9350\n",
      "Epoch 28/30\n",
      "1875/1875 [==============================] - 2s 1ms/step - loss: 0.2350 - accuracy: 0.9354\n",
      "Epoch 29/30\n",
      "1875/1875 [==============================] - 2s 1ms/step - loss: 0.2349 - accuracy: 0.9350\n",
      "Epoch 30/30\n",
      "1875/1875 [==============================] - 2s 1ms/step - loss: 0.2342 - accuracy: 0.9354\n"
     ]
    },
    {
     "data": {
      "text/plain": [
       "<keras.callbacks.History at 0x25ec2b73130>"
      ]
     },
     "execution_count": 6,
     "metadata": {},
     "output_type": "execute_result"
    }
   ],
   "source": [
    "model= keras.Sequential([\n",
    "    keras.layers.Dense(10,input_shape=(784,),activation='sigmoid')\n",
    "])\n",
    "\n",
    "model.compile(\n",
    "    optimizer='adam',\n",
    "    loss='sparse_categorical_crossentropy',\n",
    "    metrics=['accuracy']\n",
    ")\n",
    "    \n",
    "model.fit(X_train_flattened,y_train,epochs=30)\n"
   ]
  },
  {
   "cell_type": "code",
   "execution_count": 7,
   "id": "1491f814",
   "metadata": {},
   "outputs": [
    {
     "name": "stdout",
     "output_type": "stream",
     "text": [
      "313/313 [==============================] - 0s 929us/step - loss: 0.2796 - accuracy: 0.9256\n"
     ]
    },
    {
     "data": {
      "text/plain": [
       "[0.2796210050582886, 0.925599992275238]"
      ]
     },
     "execution_count": 7,
     "metadata": {},
     "output_type": "execute_result"
    }
   ],
   "source": [
    "model.evaluate(X_test_flattened, y_test)"
   ]
  },
  {
   "cell_type": "code",
   "execution_count": null,
   "id": "1e2aa84d",
   "metadata": {},
   "outputs": [],
   "source": [
    "plt.matshow(X_test[0])"
   ]
  },
  {
   "cell_type": "code",
   "execution_count": 8,
   "id": "41205d79",
   "metadata": {},
   "outputs": [
    {
     "name": "stdout",
     "output_type": "stream",
     "text": [
      "313/313 [==============================] - 0s 804us/step\n"
     ]
    },
    {
     "data": {
      "text/plain": [
       "array([[3.3144712e-05, 2.9766016e-11, 3.8599703e-04, ..., 9.9989271e-01,\n",
       "        1.0034354e-01, 6.4122689e-01],\n",
       "       [6.2863939e-02, 2.6139750e-03, 9.9970514e-01, ..., 4.4155103e-21,\n",
       "        3.7213136e-02, 7.0166769e-19],\n",
       "       [4.3995482e-05, 9.9590129e-01, 6.8668610e-01, ..., 1.2923934e-03,\n",
       "        3.1474519e-01, 3.0084208e-02],\n",
       "       ...,\n",
       "       [1.9151273e-07, 2.2243249e-08, 1.8325960e-04, ..., 1.1523402e-01,\n",
       "        6.9958395e-01, 6.5097100e-01],\n",
       "       [1.9885555e-07, 5.4561355e-07, 4.1683595e-07, ..., 3.8044698e-06,\n",
       "        6.5782839e-01, 2.8212662e-07],\n",
       "       [1.6510296e-05, 1.2136325e-13, 3.9114814e-02, ..., 3.5567894e-18,\n",
       "        2.7485729e-07, 3.1252329e-12]], dtype=float32)"
      ]
     },
     "execution_count": 8,
     "metadata": {},
     "output_type": "execute_result"
    }
   ],
   "source": [
    "model.predict(X_test_flattened)"
   ]
  },
  {
   "cell_type": "code",
   "execution_count": 9,
   "id": "05231ddd",
   "metadata": {},
   "outputs": [
    {
     "name": "stdout",
     "output_type": "stream",
     "text": [
      "313/313 [==============================] - 0s 754us/step\n"
     ]
    },
    {
     "data": {
      "text/plain": [
       "array([6.2863939e-02, 2.6139750e-03, 9.9970514e-01, 2.6339968e-03,\n",
       "       1.8153075e-14, 7.8489798e-01, 9.3377930e-01, 4.4155103e-21,\n",
       "       3.7213136e-02, 7.0166769e-19], dtype=float32)"
      ]
     },
     "execution_count": 9,
     "metadata": {},
     "output_type": "execute_result"
    }
   ],
   "source": [
    "y_predicted= model.predict(X_test_flattened)\n",
    "y_predicted[1]"
   ]
  },
  {
   "cell_type": "code",
   "execution_count": 10,
   "id": "f9ef474e",
   "metadata": {},
   "outputs": [
    {
     "data": {
      "text/plain": [
       "2"
      ]
     },
     "execution_count": 10,
     "metadata": {},
     "output_type": "execute_result"
    }
   ],
   "source": [
    "np.argmax(y_predicted[1])"
   ]
  },
  {
   "cell_type": "code",
   "execution_count": 11,
   "id": "e47a2e35",
   "metadata": {},
   "outputs": [
    {
     "data": {
      "text/plain": [
       "[7, 2, 1, 0, 4]"
      ]
     },
     "execution_count": 11,
     "metadata": {},
     "output_type": "execute_result"
    }
   ],
   "source": [
    "y_predicted_labels = [np.argmax(i) for  i in y_predicted]\n",
    "y_predicted_labels[:5]"
   ]
  },
  {
   "cell_type": "code",
   "execution_count": 12,
   "id": "0c60ecd5",
   "metadata": {},
   "outputs": [
    {
     "data": {
      "text/plain": [
       "array([7, 2, 1, 0, 4], dtype=uint8)"
      ]
     },
     "execution_count": 12,
     "metadata": {},
     "output_type": "execute_result"
    }
   ],
   "source": [
    "y_test[:5]"
   ]
  },
  {
   "cell_type": "code",
   "execution_count": 13,
   "id": "a2660f0e",
   "metadata": {},
   "outputs": [
    {
     "data": {
      "text/plain": [
       "<tf.Tensor: shape=(10, 10), dtype=int32, numpy=\n",
       "array([[ 956,    0,    0,    2,    1,    7,   10,    3,    1,    0],\n",
       "       [   0, 1107,    3,    2,    0,    1,    4,    2,   16,    0],\n",
       "       [   6,    8,  907,   23,    7,    3,   13,    9,   52,    4],\n",
       "       [   3,    0,   11,  927,    0,   21,    3,   10,   28,    7],\n",
       "       [   1,    1,    5,    3,  913,    0,   11,    5,   10,   33],\n",
       "       [  10,    3,    1,   40,    7,  763,   15,    9,   41,    3],\n",
       "       [  10,    3,    7,    2,    7,   10,  916,    1,    2,    0],\n",
       "       [   1,    6,   23,    6,    4,    1,    0,  953,    5,   29],\n",
       "       [   7,    5,    4,   18,    7,   16,    9,    7,  896,    5],\n",
       "       [   9,    7,    1,   10,   19,    6,    0,   25,   14,  918]])>"
      ]
     },
     "execution_count": 13,
     "metadata": {},
     "output_type": "execute_result"
    }
   ],
   "source": [
    "cm = tf.math.confusion_matrix(labels=y_test, predictions=y_predicted_labels)\n",
    "cm"
   ]
  },
  {
   "cell_type": "code",
   "execution_count": null,
   "id": "6e830362",
   "metadata": {},
   "outputs": [],
   "source": [
    "import seaborn as sn\n",
    "plt.figure(figsize = (10,7))\n",
    "sn.heatmap(cm, annot=True, fmt='d')\n",
    "plt.xlabel('Predicted')\n",
    "plt.ylabel('Truth')"
   ]
  },
  {
   "cell_type": "code",
   "execution_count": null,
   "id": "f1f559cb",
   "metadata": {},
   "outputs": [],
   "source": [
    "model= keras.Sequential([\n",
    "    keras.layers.Dense(100,input_shape=(784,),activation='relu')\n",
    "     keras.layers.Dense(10,activation='sigmoid')\n",
    "])\n",
    "\n",
    "model.compile(\n",
    "    optimizer='adam',\n",
    "    loss='sparse_categorical_crossentropy',\n",
    "    metrics=['accuracy']\n",
    ")\n",
    "    \n",
    "model.fit(X_train_flattened,y_train,epochs=10)"
   ]
  },
  {
   "cell_type": "code",
   "execution_count": null,
   "id": "82b25822",
   "metadata": {},
   "outputs": [],
   "source": [
    "model.evaluate(X_test_flattened, y_test)"
   ]
  },
  {
   "cell_type": "code",
   "execution_count": null,
   "id": "8b189d4e",
   "metadata": {},
   "outputs": [],
   "source": [
    "import seaborn as sn\n",
    "plt.figure(figsize = (10,7))\n",
    "sn.heatmap(cm, annot=True, fmt='d')\n",
    "plt.xlabel('Predicted')\n",
    "plt.ylabel('Truth')"
   ]
  },
  {
   "cell_type": "code",
   "execution_count": null,
   "id": "fea06b85",
   "metadata": {},
   "outputs": [],
   "source": [
    "model= keras.Sequential([\n",
    "    karas.layers.Flatten(input_shape=(28,28))\n",
    "    keras.layers.Dense(100,activation='relu')\n",
    "     keras.layers.Dense(10,activation='sigmoid')\n",
    "])\n",
    "\n",
    "model.compile(\n",
    "    optimizer='adam',\n",
    "    loss='sparse_categorical_crossentropy',\n",
    "    metrics=['accuracy']\n",
    ")\n",
    "    \n",
    "model.fit(X_train,y_train,epochs=10)"
   ]
  }
 ],
 "metadata": {
  "kernelspec": {
   "display_name": "Python 3 (ipykernel)",
   "language": "python",
   "name": "python3"
  },
  "language_info": {
   "codemirror_mode": {
    "name": "ipython",
    "version": 3
   },
   "file_extension": ".py",
   "mimetype": "text/x-python",
   "name": "python",
   "nbconvert_exporter": "python",
   "pygments_lexer": "ipython3",
   "version": "3.10.9"
  }
 },
 "nbformat": 4,
 "nbformat_minor": 5
}
