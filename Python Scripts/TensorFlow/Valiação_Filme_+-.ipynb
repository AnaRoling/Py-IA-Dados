{
 "cells": [
  {
   "cell_type": "code",
   "execution_count": 1,
   "id": "9a23eb83",
   "metadata": {},
   "outputs": [
    {
     "name": "stdout",
     "output_type": "stream",
     "text": [
      "2.10.0\n"
     ]
    }
   ],
   "source": [
    "import tensorflow as tf\n",
    "from tensorflow import keras\n",
    "\n",
    "import numpy as np\n",
    "\n",
    "print(tf.__version__)"
   ]
  },
  {
   "cell_type": "code",
   "execution_count": 2,
   "id": "b4b8cb32",
   "metadata": {},
   "outputs": [
    {
     "name": "stdout",
     "output_type": "stream",
     "text": [
      "Downloading data from https://storage.googleapis.com/tensorflow/tf-keras-datasets/imdb.npz\n",
      "17464789/17464789 [==============================] - 1s 0us/step\n"
     ]
    }
   ],
   "source": [
    "imdb = keras.datasets.imdb\n",
    "\n",
    "(train_data, train_labels), (test_data, test_labels) = imdb.load_data(num_words=10000)"
   ]
  },
  {
   "cell_type": "code",
   "execution_count": 3,
   "id": "d10c037e",
   "metadata": {},
   "outputs": [
    {
     "name": "stdout",
     "output_type": "stream",
     "text": [
      "Training entries: 25000, labels: 25000\n"
     ]
    }
   ],
   "source": [
    "print(\"Training entries: {}, labels: {}\".format(len(train_data), len(train_labels)))"
   ]
  },
  {
   "cell_type": "code",
   "execution_count": 4,
   "id": "fc590573",
   "metadata": {},
   "outputs": [
    {
     "name": "stdout",
     "output_type": "stream",
     "text": [
      "[1, 14, 22, 16, 43, 530, 973, 1622, 1385, 65, 458, 4468, 66, 3941, 4, 173, 36, 256, 5, 25, 100, 43, 838, 112, 50, 670, 2, 9, 35, 480, 284, 5, 150, 4, 172, 112, 167, 2, 336, 385, 39, 4, 172, 4536, 1111, 17, 546, 38, 13, 447, 4, 192, 50, 16, 6, 147, 2025, 19, 14, 22, 4, 1920, 4613, 469, 4, 22, 71, 87, 12, 16, 43, 530, 38, 76, 15, 13, 1247, 4, 22, 17, 515, 17, 12, 16, 626, 18, 2, 5, 62, 386, 12, 8, 316, 8, 106, 5, 4, 2223, 5244, 16, 480, 66, 3785, 33, 4, 130, 12, 16, 38, 619, 5, 25, 124, 51, 36, 135, 48, 25, 1415, 33, 6, 22, 12, 215, 28, 77, 52, 5, 14, 407, 16, 82, 2, 8, 4, 107, 117, 5952, 15, 256, 4, 2, 7, 3766, 5, 723, 36, 71, 43, 530, 476, 26, 400, 317, 46, 7, 4, 2, 1029, 13, 104, 88, 4, 381, 15, 297, 98, 32, 2071, 56, 26, 141, 6, 194, 7486, 18, 4, 226, 22, 21, 134, 476, 26, 480, 5, 144, 30, 5535, 18, 51, 36, 28, 224, 92, 25, 104, 4, 226, 65, 16, 38, 1334, 88, 12, 16, 283, 5, 16, 4472, 113, 103, 32, 15, 16, 5345, 19, 178, 32]\n"
     ]
    }
   ],
   "source": [
    "print(train_data[0])"
   ]
  },
  {
   "cell_type": "code",
   "execution_count": 5,
   "id": "dee13bcd",
   "metadata": {},
   "outputs": [
    {
     "data": {
      "text/plain": [
       "(218, 189)"
      ]
     },
     "execution_count": 5,
     "metadata": {},
     "output_type": "execute_result"
    }
   ],
   "source": [
    "len(train_data[0]), len(train_data[1])"
   ]
  },
  {
   "cell_type": "code",
   "execution_count": 6,
   "id": "c6deb911",
   "metadata": {},
   "outputs": [
    {
     "name": "stdout",
     "output_type": "stream",
     "text": [
      "Downloading data from https://storage.googleapis.com/tensorflow/tf-keras-datasets/imdb_word_index.json\n",
      "1641221/1641221 [==============================] - 0s 0us/step\n"
     ]
    }
   ],
   "source": [
    "# Um dicionário mapeando palavras em índices inteiros\n",
    "word_index = imdb.get_word_index()\n",
    "\n",
    "# Os primeiros índices são reservados\n",
    "word_index = {k:(v+3) for k,v in word_index.items()}\n",
    "word_index[\"<PAD>\"] = 0\n",
    "word_index[\"<START>\"] = 1\n",
    "word_index[\"<UNK>\"] = 2  # unknown\n",
    "word_index[\"<UNUSED>\"] = 3\n",
    "\n",
    "reverse_word_index = dict([(value, key) for (key, value) in word_index.items()])\n",
    "\n",
    "def decode_review(text):\n",
    "    return ' '.join([reverse_word_index.get(i, '?') for i in text])"
   ]
  },
  {
   "cell_type": "code",
   "execution_count": 7,
   "id": "c73ee387",
   "metadata": {},
   "outputs": [
    {
     "data": {
      "text/plain": [
       "\"<START> this film was just brilliant casting location scenery story direction everyone's really suited the part they played and you could just imagine being there robert <UNK> is an amazing actor and now the same being director <UNK> father came from the same scottish island as myself so i loved the fact there was a real connection with this film the witty remarks throughout the film were great it was just brilliant so much that i bought the film as soon as it was released for <UNK> and would recommend it to everyone to watch and the fly fishing was amazing really cried at the end it was so sad and you know what they say if you cry at a film it must have been good and this definitely was also <UNK> to the two little boy's that played the <UNK> of norman and paul they were just brilliant children are often left out of the <UNK> list i think because the stars that play them all grown up are such a big profile for the whole film but these children are amazing and should be praised for what they have done don't you think the whole story was so lovely because it was true and was someone's life after all that was shared with us all\""
      ]
     },
     "execution_count": 7,
     "metadata": {},
     "output_type": "execute_result"
    }
   ],
   "source": [
    "decode_review(train_data[0])"
   ]
  },
  {
   "cell_type": "code",
   "execution_count": 8,
   "id": "555b1ebf",
   "metadata": {},
   "outputs": [],
   "source": [
    "train_data = keras.preprocessing.sequence.pad_sequences(train_data,\n",
    "                                                        value=word_index[\"<PAD>\"],\n",
    "                                                        padding='post',\n",
    "                                                        maxlen=256)\n",
    "\n",
    "test_data = keras.preprocessing.sequence.pad_sequences(test_data,\n",
    "                                                       value=word_index[\"<PAD>\"],\n",
    "                                                       padding='post',\n",
    "                                                       maxlen=256)"
   ]
  },
  {
   "cell_type": "code",
   "execution_count": 9,
   "id": "b6b11889",
   "metadata": {},
   "outputs": [
    {
     "data": {
      "text/plain": [
       "(256, 256)"
      ]
     },
     "execution_count": 9,
     "metadata": {},
     "output_type": "execute_result"
    }
   ],
   "source": [
    "len(train_data[0]), len(train_data[1])"
   ]
  },
  {
   "cell_type": "code",
   "execution_count": 10,
   "id": "93cdd7b4",
   "metadata": {},
   "outputs": [
    {
     "name": "stdout",
     "output_type": "stream",
     "text": [
      "[   1   14   22   16   43  530  973 1622 1385   65  458 4468   66 3941\n",
      "    4  173   36  256    5   25  100   43  838  112   50  670    2    9\n",
      "   35  480  284    5  150    4  172  112  167    2  336  385   39    4\n",
      "  172 4536 1111   17  546   38   13  447    4  192   50   16    6  147\n",
      " 2025   19   14   22    4 1920 4613  469    4   22   71   87   12   16\n",
      "   43  530   38   76   15   13 1247    4   22   17  515   17   12   16\n",
      "  626   18    2    5   62  386   12    8  316    8  106    5    4 2223\n",
      " 5244   16  480   66 3785   33    4  130   12   16   38  619    5   25\n",
      "  124   51   36  135   48   25 1415   33    6   22   12  215   28   77\n",
      "   52    5   14  407   16   82    2    8    4  107  117 5952   15  256\n",
      "    4    2    7 3766    5  723   36   71   43  530  476   26  400  317\n",
      "   46    7    4    2 1029   13  104   88    4  381   15  297   98   32\n",
      " 2071   56   26  141    6  194 7486   18    4  226   22   21  134  476\n",
      "   26  480    5  144   30 5535   18   51   36   28  224   92   25  104\n",
      "    4  226   65   16   38 1334   88   12   16  283    5   16 4472  113\n",
      "  103   32   15   16 5345   19  178   32    0    0    0    0    0    0\n",
      "    0    0    0    0    0    0    0    0    0    0    0    0    0    0\n",
      "    0    0    0    0    0    0    0    0    0    0    0    0    0    0\n",
      "    0    0    0    0]\n"
     ]
    }
   ],
   "source": [
    "print(train_data[0])"
   ]
  },
  {
   "cell_type": "code",
   "execution_count": 11,
   "id": "d54fdfb8",
   "metadata": {},
   "outputs": [
    {
     "name": "stdout",
     "output_type": "stream",
     "text": [
      "Model: \"sequential\"\n",
      "_________________________________________________________________\n",
      " Layer (type)                Output Shape              Param #   \n",
      "=================================================================\n",
      " embedding (Embedding)       (None, None, 16)          160000    \n",
      "                                                                 \n",
      " global_average_pooling1d (G  (None, 16)               0         \n",
      " lobalAveragePooling1D)                                          \n",
      "                                                                 \n",
      " dense (Dense)               (None, 16)                272       \n",
      "                                                                 \n",
      " dense_1 (Dense)             (None, 1)                 17        \n",
      "                                                                 \n",
      "=================================================================\n",
      "Total params: 160,289\n",
      "Trainable params: 160,289\n",
      "Non-trainable params: 0\n",
      "_________________________________________________________________\n"
     ]
    }
   ],
   "source": [
    "# O formato de entrada é a contagem vocabulário usados pelas avaliações dos filmes (10000 palavras)\n",
    "vocab_size = 10000\n",
    "\n",
    "model = keras.Sequential()\n",
    "model.add(keras.layers.Embedding(vocab_size, 16))\n",
    "model.add(keras.layers.GlobalAveragePooling1D())\n",
    "model.add(keras.layers.Dense(16, activation='relu'))\n",
    "model.add(keras.layers.Dense(1, activation='sigmoid'))\n",
    "\n",
    "model.summary()"
   ]
  },
  {
   "cell_type": "code",
   "execution_count": 12,
   "id": "d5e52606",
   "metadata": {},
   "outputs": [],
   "source": [
    "model.compile(optimizer='adam',\n",
    "              loss='binary_crossentropy',\n",
    "              metrics=['accuracy'])"
   ]
  },
  {
   "cell_type": "code",
   "execution_count": 13,
   "id": "254b007d",
   "metadata": {},
   "outputs": [],
   "source": [
    "x_val = train_data[:10000]\n",
    "partial_x_train = train_data[10000:]\n",
    "\n",
    "y_val = train_labels[:10000]\n",
    "partial_y_train = train_labels[10000:]"
   ]
  },
  {
   "cell_type": "code",
   "execution_count": 14,
   "id": "0a8205e7",
   "metadata": {},
   "outputs": [
    {
     "name": "stdout",
     "output_type": "stream",
     "text": [
      "Epoch 1/40\n",
      "30/30 [==============================] - 1s 23ms/step - loss: 0.6922 - accuracy: 0.5485 - val_loss: 0.6907 - val_accuracy: 0.6059\n",
      "Epoch 2/40\n",
      "30/30 [==============================] - 0s 16ms/step - loss: 0.6875 - accuracy: 0.6451 - val_loss: 0.6842 - val_accuracy: 0.7033\n",
      "Epoch 3/40\n",
      "30/30 [==============================] - 0s 15ms/step - loss: 0.6770 - accuracy: 0.7399 - val_loss: 0.6706 - val_accuracy: 0.7296\n",
      "Epoch 4/40\n",
      "30/30 [==============================] - 0s 15ms/step - loss: 0.6574 - accuracy: 0.7601 - val_loss: 0.6476 - val_accuracy: 0.7551\n",
      "Epoch 5/40\n",
      "30/30 [==============================] - 1s 17ms/step - loss: 0.6277 - accuracy: 0.7777 - val_loss: 0.6161 - val_accuracy: 0.7599\n",
      "Epoch 6/40\n",
      "30/30 [==============================] - 1s 18ms/step - loss: 0.5889 - accuracy: 0.7993 - val_loss: 0.5779 - val_accuracy: 0.7951\n",
      "Epoch 7/40\n",
      "30/30 [==============================] - 0s 15ms/step - loss: 0.5447 - accuracy: 0.8176 - val_loss: 0.5369 - val_accuracy: 0.8097\n",
      "Epoch 8/40\n",
      "30/30 [==============================] - 0s 15ms/step - loss: 0.4991 - accuracy: 0.8372 - val_loss: 0.4961 - val_accuracy: 0.8249\n",
      "Epoch 9/40\n",
      "30/30 [==============================] - 0s 16ms/step - loss: 0.4554 - accuracy: 0.8523 - val_loss: 0.4585 - val_accuracy: 0.8373\n",
      "Epoch 10/40\n",
      "30/30 [==============================] - 1s 17ms/step - loss: 0.4159 - accuracy: 0.8657 - val_loss: 0.4266 - val_accuracy: 0.8458\n",
      "Epoch 11/40\n",
      "30/30 [==============================] - 1s 19ms/step - loss: 0.3820 - accuracy: 0.8755 - val_loss: 0.3998 - val_accuracy: 0.8535\n",
      "Epoch 12/40\n",
      "30/30 [==============================] - 0s 16ms/step - loss: 0.3529 - accuracy: 0.8837 - val_loss: 0.3785 - val_accuracy: 0.8590\n",
      "Epoch 13/40\n",
      "30/30 [==============================] - 0s 15ms/step - loss: 0.3287 - accuracy: 0.8903 - val_loss: 0.3610 - val_accuracy: 0.8632\n",
      "Epoch 14/40\n",
      "30/30 [==============================] - 0s 14ms/step - loss: 0.3076 - accuracy: 0.8953 - val_loss: 0.3466 - val_accuracy: 0.8665\n",
      "Epoch 15/40\n",
      "30/30 [==============================] - 0s 14ms/step - loss: 0.2902 - accuracy: 0.9003 - val_loss: 0.3349 - val_accuracy: 0.8707\n",
      "Epoch 16/40\n",
      "30/30 [==============================] - 0s 14ms/step - loss: 0.2738 - accuracy: 0.9055 - val_loss: 0.3255 - val_accuracy: 0.8725\n",
      "Epoch 17/40\n",
      "30/30 [==============================] - 0s 14ms/step - loss: 0.2595 - accuracy: 0.9101 - val_loss: 0.3175 - val_accuracy: 0.8775\n",
      "Epoch 18/40\n",
      "30/30 [==============================] - 0s 14ms/step - loss: 0.2469 - accuracy: 0.9146 - val_loss: 0.3109 - val_accuracy: 0.8791\n",
      "Epoch 19/40\n",
      "30/30 [==============================] - 0s 14ms/step - loss: 0.2350 - accuracy: 0.9195 - val_loss: 0.3055 - val_accuracy: 0.8792\n",
      "Epoch 20/40\n",
      "30/30 [==============================] - 0s 15ms/step - loss: 0.2243 - accuracy: 0.9223 - val_loss: 0.3007 - val_accuracy: 0.8810\n",
      "Epoch 21/40\n",
      "30/30 [==============================] - 0s 14ms/step - loss: 0.2145 - accuracy: 0.9255 - val_loss: 0.2974 - val_accuracy: 0.8796\n",
      "Epoch 22/40\n",
      "30/30 [==============================] - 0s 14ms/step - loss: 0.2052 - accuracy: 0.9299 - val_loss: 0.2939 - val_accuracy: 0.8837\n",
      "Epoch 23/40\n",
      "30/30 [==============================] - 0s 15ms/step - loss: 0.1971 - accuracy: 0.9335 - val_loss: 0.2924 - val_accuracy: 0.8814\n",
      "Epoch 24/40\n",
      "30/30 [==============================] - 0s 13ms/step - loss: 0.1884 - accuracy: 0.9363 - val_loss: 0.2895 - val_accuracy: 0.8845\n",
      "Epoch 25/40\n",
      "30/30 [==============================] - 0s 13ms/step - loss: 0.1806 - accuracy: 0.9399 - val_loss: 0.2880 - val_accuracy: 0.8843\n",
      "Epoch 26/40\n",
      "30/30 [==============================] - 0s 14ms/step - loss: 0.1736 - accuracy: 0.9432 - val_loss: 0.2868 - val_accuracy: 0.8850\n",
      "Epoch 27/40\n",
      "30/30 [==============================] - 0s 15ms/step - loss: 0.1669 - accuracy: 0.9469 - val_loss: 0.2865 - val_accuracy: 0.8845\n",
      "Epoch 28/40\n",
      "30/30 [==============================] - 0s 13ms/step - loss: 0.1602 - accuracy: 0.9491 - val_loss: 0.2863 - val_accuracy: 0.8855\n",
      "Epoch 29/40\n",
      "30/30 [==============================] - 0s 14ms/step - loss: 0.1543 - accuracy: 0.9517 - val_loss: 0.2864 - val_accuracy: 0.8855\n",
      "Epoch 30/40\n",
      "30/30 [==============================] - 0s 16ms/step - loss: 0.1485 - accuracy: 0.9540 - val_loss: 0.2865 - val_accuracy: 0.8856\n",
      "Epoch 31/40\n",
      "30/30 [==============================] - 0s 16ms/step - loss: 0.1430 - accuracy: 0.9562 - val_loss: 0.2879 - val_accuracy: 0.8861\n",
      "Epoch 32/40\n",
      "30/30 [==============================] - 0s 15ms/step - loss: 0.1382 - accuracy: 0.9574 - val_loss: 0.2885 - val_accuracy: 0.8869\n",
      "Epoch 33/40\n",
      "30/30 [==============================] - 0s 13ms/step - loss: 0.1327 - accuracy: 0.9604 - val_loss: 0.2895 - val_accuracy: 0.8860\n",
      "Epoch 34/40\n",
      "30/30 [==============================] - 0s 13ms/step - loss: 0.1281 - accuracy: 0.9623 - val_loss: 0.2916 - val_accuracy: 0.8855\n",
      "Epoch 35/40\n",
      "30/30 [==============================] - 0s 14ms/step - loss: 0.1232 - accuracy: 0.9649 - val_loss: 0.2929 - val_accuracy: 0.8850\n",
      "Epoch 36/40\n",
      "30/30 [==============================] - 0s 14ms/step - loss: 0.1185 - accuracy: 0.9666 - val_loss: 0.2943 - val_accuracy: 0.8857\n",
      "Epoch 37/40\n",
      "30/30 [==============================] - 0s 14ms/step - loss: 0.1140 - accuracy: 0.9685 - val_loss: 0.2961 - val_accuracy: 0.8855\n",
      "Epoch 38/40\n",
      "30/30 [==============================] - 0s 13ms/step - loss: 0.1100 - accuracy: 0.9697 - val_loss: 0.2987 - val_accuracy: 0.8851\n",
      "Epoch 39/40\n",
      "30/30 [==============================] - 0s 16ms/step - loss: 0.1061 - accuracy: 0.9715 - val_loss: 0.3006 - val_accuracy: 0.8850\n",
      "Epoch 40/40\n",
      "30/30 [==============================] - 0s 16ms/step - loss: 0.1022 - accuracy: 0.9721 - val_loss: 0.3038 - val_accuracy: 0.8833\n"
     ]
    }
   ],
   "source": [
    "history = model.fit(partial_x_train,\n",
    "                    partial_y_train,\n",
    "                    epochs=40,\n",
    "                    batch_size=512,\n",
    "                    validation_data=(x_val, y_val),\n",
    "                    verbose=1)"
   ]
  },
  {
   "cell_type": "code",
   "execution_count": 15,
   "id": "6e256d89",
   "metadata": {},
   "outputs": [
    {
     "name": "stdout",
     "output_type": "stream",
     "text": [
      "782/782 - 1s - loss: 0.3227 - accuracy: 0.8737 - 765ms/epoch - 978us/step\n",
      "[0.32265159487724304, 0.8736799955368042]\n"
     ]
    }
   ],
   "source": [
    "results = model.evaluate(test_data,  test_labels, verbose=2)\n",
    "\n",
    "print(results)"
   ]
  },
  {
   "cell_type": "code",
   "execution_count": 16,
   "id": "6935c0f9",
   "metadata": {},
   "outputs": [
    {
     "data": {
      "text/plain": [
       "dict_keys(['loss', 'accuracy', 'val_loss', 'val_accuracy'])"
      ]
     },
     "execution_count": 16,
     "metadata": {},
     "output_type": "execute_result"
    }
   ],
   "source": [
    "history_dict = history.history\n",
    "history_dict.keys()"
   ]
  },
  {
   "cell_type": "code",
   "execution_count": null,
   "id": "acac9088",
   "metadata": {},
   "outputs": [],
   "source": [
    "import matplotlib.pyplot as plt\n",
    "\n",
    "acc = history_dict['accuracy']\n",
    "val_acc = history_dict['val_accuracy']\n",
    "loss = history_dict['loss']\n",
    "val_loss = history_dict['val_loss']\n",
    "\n",
    "epochs = range(1, len(acc) + 1)\n",
    "\n",
    "# \"bo\" is for \"blue dot\"\n",
    "plt.plot(epochs, loss, 'bo', label='Training loss')\n",
    "# b is for \"solid blue line\"\n",
    "plt.plot(epochs, val_loss, 'b', label='Validation loss')\n",
    "plt.title('Training and validation loss')\n",
    "plt.xlabel('Epochs')\n",
    "plt.ylabel('Loss')\n",
    "plt.legend()\n",
    "\n",
    "plt.show()"
   ]
  },
  {
   "cell_type": "code",
   "execution_count": null,
   "id": "5b465d67",
   "metadata": {},
   "outputs": [],
   "source": [
    "plt.clf()   # clear figure\n",
    "\n",
    "plt.plot(epochs, acc, 'bo', label='Training acc')\n",
    "plt.plot(epochs, val_acc, 'b', label='Validation acc')\n",
    "plt.title('Training and validation accuracy')\n",
    "plt.xlabel('Epochs')\n",
    "plt.ylabel('Accuracy')\n",
    "plt.legend()\n",
    "\n",
    "plt.show()"
   ]
  }
 ],
 "metadata": {
  "kernelspec": {
   "display_name": "Python 3 (ipykernel)",
   "language": "python",
   "name": "python3"
  },
  "language_info": {
   "codemirror_mode": {
    "name": "ipython",
    "version": 3
   },
   "file_extension": ".py",
   "mimetype": "text/x-python",
   "name": "python",
   "nbconvert_exporter": "python",
   "pygments_lexer": "ipython3",
   "version": "3.10.9"
  }
 },
 "nbformat": 4,
 "nbformat_minor": 5
}
