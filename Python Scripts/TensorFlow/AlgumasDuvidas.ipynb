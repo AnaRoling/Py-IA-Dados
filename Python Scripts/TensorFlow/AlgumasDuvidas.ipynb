{
 "cells": [
  {
   "cell_type": "markdown",
   "id": "92a3ee6e",
   "metadata": {},
   "source": [
    "O que é o peso do modelo?"
   ]
  },
  {
   "cell_type": "markdown",
   "id": "da2b6051",
   "metadata": {},
   "source": [
    "exe : model = keras.Sequential([\n",
    "    keras.layers.Flatten(input_shape=(28, 28)),\n",
    "    keras.layers.Dense(128, activation='relu'),\n",
    "    keras.layers.Dense(10, activation='softmax')\n",
    "])"
   ]
  },
  {
   "cell_type": "markdown",
   "id": "40fefa70",
   "metadata": {},
   "source": [
    "O que é descida de gradiente?\n"
   ]
  },
  {
   "cell_type": "markdown",
   "id": "dd8d0743",
   "metadata": {},
   "source": [
    "diferenciação automática (autodiff) , conceito e quando usar"
   ]
  },
  {
   "cell_type": "markdown",
   "id": "aa9ff464",
   "metadata": {},
   "source": [
    "radiente do erro ou perda de um modelo em relação a seus pesos: referente a isso:"
   ]
  },
  {
   "cell_type": "markdown",
   "id": "e10103c2",
   "metadata": {},
   "source": [
    "*Epoch 1/10\n",
    "1875/1875 [==============================] - 4s 2ms/step - loss: 0.6237 - accuracy: 0.7844\n",
    "Epoch 2/10"
   ]
  },
  {
   "cell_type": "markdown",
   "id": "9b1dd5ac",
   "metadata": {},
   "source": [
    "*313/313 - 1s - loss: 0.3342 - accuracy: 0.8823\n",
    "\n",
    "Test accuracy: 0.8823000192642212"
   ]
  },
  {
   "cell_type": "code",
   "execution_count": null,
   "id": "c07f0803",
   "metadata": {},
   "outputs": [],
   "source": []
  }
 ],
 "metadata": {
  "kernelspec": {
   "display_name": "Python 3 (ipykernel)",
   "language": "python",
   "name": "python3"
  },
  "language_info": {
   "codemirror_mode": {
    "name": "ipython",
    "version": 3
   },
   "file_extension": ".py",
   "mimetype": "text/x-python",
   "name": "python",
   "nbconvert_exporter": "python",
   "pygments_lexer": "ipython3",
   "version": "3.10.9"
  }
 },
 "nbformat": 4,
 "nbformat_minor": 5
}
