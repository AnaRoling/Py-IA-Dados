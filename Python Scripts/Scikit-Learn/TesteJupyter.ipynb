{
 "cells": [
  {
   "cell_type": "markdown",
   "id": "515f28fb",
   "metadata": {},
   "source": [
    "# Conhecendo o Jupyter \n",
    " O objetivo sera entendener como funciona as células "
   ]
  },
  {
   "cell_type": "markdown",
   "id": "51dcf146",
   "metadata": {},
   "source": [
    "# Titulo 1\n",
    "\n",
    "## Titulo2\n",
    "\n",
    "### Titulo 3\n",
    "\n",
    "* item 1\n",
    "* Item 2\n",
    "\n",
    "Texto em **netrito**\n",
    "\n",
    "Texto em *italico* \n"
   ]
  },
  {
   "cell_type": "markdown",
   "id": "f8530de1",
   "metadata": {},
   "source": [
    "apertar a tecla m fora da caixa muda automaticamente para o markdown"
   ]
  },
  {
   "cell_type": "markdown",
   "id": "66df1a58",
   "metadata": {},
   "source": [
    "dia/mes/ano - criação do programa \n",
    "\n",
    "dia/mes/ano - modificação XXXX\n"
   ]
  },
  {
   "cell_type": "code",
   "execution_count": null,
   "id": "825f1eb6",
   "metadata": {},
   "outputs": [],
   "source": [
    "print(\"Parte 1 do programa - celula 1\")"
   ]
  },
  {
   "cell_type": "markdown",
   "id": "2b423f31",
   "metadata": {},
   "source": [
    "Iniciando parte 2"
   ]
  },
  {
   "cell_type": "code",
   "execution_count": 8,
   "id": "988039cc",
   "metadata": {},
   "outputs": [
    {
     "name": "stdout",
     "output_type": "stream",
     "text": [
      "Parte 2 do programa\n"
     ]
    }
   ],
   "source": [
    "print(\"Parte 2 do programa\")"
   ]
  },
  {
   "cell_type": "code",
   "execution_count": null,
   "id": "f58e892d",
   "metadata": {},
   "outputs": [],
   "source": [
    "print('parte que eu nao quero')"
   ]
  }
 ],
 "metadata": {
  "kernelspec": {
   "display_name": "Python 3 (ipykernel)",
   "language": "python",
   "name": "python3"
  },
  "language_info": {
   "codemirror_mode": {
    "name": "ipython",
    "version": 3
   },
   "file_extension": ".py",
   "mimetype": "text/x-python",
   "name": "python",
   "nbconvert_exporter": "python",
   "pygments_lexer": "ipython3",
   "version": "3.10.9"
  }
 },
 "nbformat": 4,
 "nbformat_minor": 5
}
